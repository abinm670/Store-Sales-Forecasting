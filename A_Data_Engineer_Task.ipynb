{
 "cells": [
  {
   "cell_type": "markdown",
   "metadata": {},
   "source": [
    "![title](Sary.jpeg)  \n",
    "\n",
    "\n",
    "<h1>Abdullah Binmahfouz</h1>\n"
   ]
  },
  {
   "cell_type": "code",
   "execution_count": 1,
   "metadata": {},
   "outputs": [],
   "source": [
    "#Libraries\n",
    "import os\n",
    "import opendatasets as od\n",
    "from zipfile import ZipFile\n",
    "import pandas as pd \n",
    "import numpy as np \n",
    "import matplotlib.pyplot as plt #visualization\n",
    "from matplotlib import pyplot\n",
    "import seaborn  as sns #visualization\n",
    "\n",
    "#machine learning models libraries\n",
    "from sklearn.model_selection import train_test_split\n",
    "from sklearn.ensemble import RandomForestRegressor"
   ]
  },
  {
   "cell_type": "code",
   "execution_count": 2,
   "metadata": {},
   "outputs": [
    {
     "name": "stdout",
     "output_type": "stream",
     "text": [
      "Skipping, found downloaded files in \"./walmart-recruiting-store-sales-forecasting\" (use force=True to force download)\n"
     ]
    }
   ],
   "source": [
    "# Download the dataset\n",
    "dataset_url = 'https://www.kaggle.com/c/walmart-recruiting-store-sales-forecasting'\n",
    "od.download(dataset_url)"
   ]
  },
  {
   "cell_type": "code",
   "execution_count": 3,
   "metadata": {},
   "outputs": [
    {
     "data": {
      "text/plain": [
       "['features.csv.zip',\n",
       " 'sampleSubmission.csv.zip',\n",
       " 'test.csv.zip',\n",
       " 'train.csv.zip',\n",
       " 'stores.csv']"
      ]
     },
     "execution_count": 3,
     "metadata": {},
     "output_type": "execute_result"
    }
   ],
   "source": [
    "#View the files\n",
    "os.listdir('walmart-recruiting-store-sales-forecasting')"
   ]
  },
  {
   "cell_type": "code",
   "execution_count": 4,
   "metadata": {},
   "outputs": [],
   "source": [
    "train = ZipFile('walmart-recruiting-store-sales-forecasting/train.csv.zip')\n",
    "features = ZipFile('walmart-recruiting-store-sales-forecasting/features.csv.zip')\n",
    "test = ZipFile('walmart-recruiting-store-sales-forecasting/test.csv.zip')\n",
    "sample = ZipFile('walmart-recruiting-store-sales-forecasting/sampleSubmission.csv.zip')"
   ]
  },
  {
   "cell_type": "code",
   "execution_count": 5,
   "metadata": {},
   "outputs": [],
   "source": [
    "# Read files \n",
    "train_df = pd.read_csv(train.open('train.csv'))\n",
    "features_df = pd.read_csv(features.open('features.csv'))\n",
    "stores_df = pd.read_csv('walmart-recruiting-store-sales-forecasting/stores.csv')\n",
    "test_df = pd.read_csv(test.open('test.csv'))"
   ]
  },
  {
   "cell_type": "code",
   "execution_count": 6,
   "metadata": {},
   "outputs": [
    {
     "data": {
      "text/plain": [
       "(Index(['Store', 'Dept', 'Date', 'Weekly_Sales', 'IsHoliday'], dtype='object'),\n",
       " Index(['Store', 'Date', 'Temperature', 'Fuel_Price', 'MarkDown1', 'MarkDown2',\n",
       "        'MarkDown3', 'MarkDown4', 'MarkDown5', 'CPI', 'Unemployment',\n",
       "        'IsHoliday'],\n",
       "       dtype='object'),\n",
       " Index(['Store', 'Type', 'Size'], dtype='object'))"
      ]
     },
     "execution_count": 6,
     "metadata": {},
     "output_type": "execute_result"
    }
   ],
   "source": [
    "train_df.columns , features_df.columns, stores_df.columns"
   ]
  },
  {
   "cell_type": "markdown",
   "metadata": {},
   "source": [
    "### Train table \n",
    "This table contains historical data from 2010-02-05 to 2012-11-01 with columns below:\n",
    "<li>Store number: Number of the store</li>\n",
    "<li>Date: From 2010-02-05 till 2012-11-01</li>\n",
    "<li> Weekly sales: amount of sales </li>\n",
    "<li> IsHolidy: its holdy day or not \n",
    "\n",
    "### features.csv:\n",
    "This table has aditional date contains:\n",
    "<li> Store: Store number </li> \n",
    "<li>Date: From 2010-02-05 till 2013-07-26' </li>\n",
    "<li>Temp</li>\n",
    "<li>Fuel_Price:  cost of fuel </li>\n",
    "<li>Markdown from 1 till 5: promotional after Nov 2011</li>\n",
    "<li>GPI: price index</li>\n",
    "<li>Unemployment rate</li>\n",
    "<li>IsHolidy: holdiay</li>\n",
    "\n",
    "### stores.csv\n",
    "Information about the stores: number, type and size of the stores\n",
    "\n"
   ]
  },
  {
   "cell_type": "code",
   "execution_count": 7,
   "metadata": {},
   "outputs": [
    {
     "name": "stdout",
     "output_type": "stream",
     "text": [
      "object And object\n",
      "Now datetime64[ns] And datetime64[ns]\n"
     ]
    }
   ],
   "source": [
    "# check the data type of the date \n",
    "print(train_df.Date.dtype, \"And\",features_df.Date.dtype)\n",
    "# #convert object to date date type\n",
    "train_df['Date']=pd.to_datetime(train_df['Date'])\n",
    "train_df['Date']=pd.to_datetime(train_df['Date'], format='%Y,%M,%d')\n",
    "# to match the format\n",
    "features_df['Date']=pd.to_datetime(features_df['Date'])\n",
    "features_df['Date']=pd.to_datetime(features_df['Date'], format='%Y,%M,%d')\n",
    "\n",
    "print(\"Now\",train_df.Date.dtype, \"And\",features_df.Date.dtype)"
   ]
  },
  {
   "cell_type": "code",
   "execution_count": 8,
   "metadata": {},
   "outputs": [],
   "source": [
    "# Merge the files train, stores and features to increase independet casuse\n",
    "stores=stores_df.merge(features_df, on='Store', how='left')\n",
    "dataset = train_df.merge(stores,on=['Store', 'Date', 'IsHoliday'], how='left')\n"
   ]
  },
  {
   "cell_type": "code",
   "execution_count": 9,
   "metadata": {},
   "outputs": [
    {
     "data": {
      "text/html": [
       "<div>\n",
       "<style scoped>\n",
       "    .dataframe tbody tr th:only-of-type {\n",
       "        vertical-align: middle;\n",
       "    }\n",
       "\n",
       "    .dataframe tbody tr th {\n",
       "        vertical-align: top;\n",
       "    }\n",
       "\n",
       "    .dataframe thead th {\n",
       "        text-align: right;\n",
       "    }\n",
       "</style>\n",
       "<table border=\"1\" class=\"dataframe\">\n",
       "  <thead>\n",
       "    <tr style=\"text-align: right;\">\n",
       "      <th></th>\n",
       "      <th>Store</th>\n",
       "      <th>Dept</th>\n",
       "      <th>Date</th>\n",
       "      <th>Weekly_Sales</th>\n",
       "      <th>IsHoliday</th>\n",
       "      <th>Type</th>\n",
       "      <th>Size</th>\n",
       "      <th>Temperature</th>\n",
       "      <th>Fuel_Price</th>\n",
       "      <th>MarkDown1</th>\n",
       "      <th>MarkDown2</th>\n",
       "      <th>MarkDown3</th>\n",
       "      <th>MarkDown4</th>\n",
       "      <th>MarkDown5</th>\n",
       "      <th>CPI</th>\n",
       "      <th>Unemployment</th>\n",
       "    </tr>\n",
       "  </thead>\n",
       "  <tbody>\n",
       "    <tr>\n",
       "      <th>0</th>\n",
       "      <td>1</td>\n",
       "      <td>1</td>\n",
       "      <td>2010-02-05</td>\n",
       "      <td>24924.50</td>\n",
       "      <td>False</td>\n",
       "      <td>A</td>\n",
       "      <td>151315</td>\n",
       "      <td>42.31</td>\n",
       "      <td>2.572</td>\n",
       "      <td>NaN</td>\n",
       "      <td>NaN</td>\n",
       "      <td>NaN</td>\n",
       "      <td>NaN</td>\n",
       "      <td>NaN</td>\n",
       "      <td>211.096358</td>\n",
       "      <td>8.106</td>\n",
       "    </tr>\n",
       "    <tr>\n",
       "      <th>1</th>\n",
       "      <td>1</td>\n",
       "      <td>1</td>\n",
       "      <td>2010-02-12</td>\n",
       "      <td>46039.49</td>\n",
       "      <td>True</td>\n",
       "      <td>A</td>\n",
       "      <td>151315</td>\n",
       "      <td>38.51</td>\n",
       "      <td>2.548</td>\n",
       "      <td>NaN</td>\n",
       "      <td>NaN</td>\n",
       "      <td>NaN</td>\n",
       "      <td>NaN</td>\n",
       "      <td>NaN</td>\n",
       "      <td>211.242170</td>\n",
       "      <td>8.106</td>\n",
       "    </tr>\n",
       "  </tbody>\n",
       "</table>\n",
       "</div>"
      ],
      "text/plain": [
       "   Store  Dept       Date  Weekly_Sales  IsHoliday Type    Size  Temperature  \\\n",
       "0      1     1 2010-02-05      24924.50      False    A  151315        42.31   \n",
       "1      1     1 2010-02-12      46039.49       True    A  151315        38.51   \n",
       "\n",
       "   Fuel_Price  MarkDown1  MarkDown2  MarkDown3  MarkDown4  MarkDown5  \\\n",
       "0       2.572        NaN        NaN        NaN        NaN        NaN   \n",
       "1       2.548        NaN        NaN        NaN        NaN        NaN   \n",
       "\n",
       "          CPI  Unemployment  \n",
       "0  211.096358         8.106  \n",
       "1  211.242170         8.106  "
      ]
     },
     "execution_count": 9,
     "metadata": {},
     "output_type": "execute_result"
    }
   ],
   "source": [
    "dataset.head(2)"
   ]
  },
  {
   "cell_type": "code",
   "execution_count": 10,
   "metadata": {},
   "outputs": [
    {
     "name": "stderr",
     "output_type": "stream",
     "text": [
      "/var/folders/hh/4dtrc1zx2md_jvrwkm25rx1c0000gn/T/ipykernel_6233/895736085.py:2: FutureWarning: Treating datetime data as categorical rather than numeric in `.describe` is deprecated and will be removed in a future version of pandas. Specify `datetime_is_numeric=True` to silence this warning and adopt the future behavior now.\n",
      "  dataset.describe(include='all')\n"
     ]
    },
    {
     "data": {
      "text/html": [
       "<div>\n",
       "<style scoped>\n",
       "    .dataframe tbody tr th:only-of-type {\n",
       "        vertical-align: middle;\n",
       "    }\n",
       "\n",
       "    .dataframe tbody tr th {\n",
       "        vertical-align: top;\n",
       "    }\n",
       "\n",
       "    .dataframe thead th {\n",
       "        text-align: right;\n",
       "    }\n",
       "</style>\n",
       "<table border=\"1\" class=\"dataframe\">\n",
       "  <thead>\n",
       "    <tr style=\"text-align: right;\">\n",
       "      <th></th>\n",
       "      <th>Store</th>\n",
       "      <th>Dept</th>\n",
       "      <th>Date</th>\n",
       "      <th>Weekly_Sales</th>\n",
       "      <th>IsHoliday</th>\n",
       "      <th>Type</th>\n",
       "      <th>Size</th>\n",
       "      <th>Temperature</th>\n",
       "      <th>Fuel_Price</th>\n",
       "      <th>MarkDown1</th>\n",
       "      <th>MarkDown2</th>\n",
       "      <th>MarkDown3</th>\n",
       "      <th>MarkDown4</th>\n",
       "      <th>MarkDown5</th>\n",
       "      <th>CPI</th>\n",
       "      <th>Unemployment</th>\n",
       "    </tr>\n",
       "  </thead>\n",
       "  <tbody>\n",
       "    <tr>\n",
       "      <th>count</th>\n",
       "      <td>421570.000000</td>\n",
       "      <td>421570.000000</td>\n",
       "      <td>421570</td>\n",
       "      <td>421570.000000</td>\n",
       "      <td>421570</td>\n",
       "      <td>421570</td>\n",
       "      <td>421570.000000</td>\n",
       "      <td>421570.000000</td>\n",
       "      <td>421570.000000</td>\n",
       "      <td>150681.000000</td>\n",
       "      <td>111248.000000</td>\n",
       "      <td>137091.000000</td>\n",
       "      <td>134967.000000</td>\n",
       "      <td>151432.000000</td>\n",
       "      <td>421570.000000</td>\n",
       "      <td>421570.000000</td>\n",
       "    </tr>\n",
       "    <tr>\n",
       "      <th>unique</th>\n",
       "      <td>NaN</td>\n",
       "      <td>NaN</td>\n",
       "      <td>143</td>\n",
       "      <td>NaN</td>\n",
       "      <td>2</td>\n",
       "      <td>3</td>\n",
       "      <td>NaN</td>\n",
       "      <td>NaN</td>\n",
       "      <td>NaN</td>\n",
       "      <td>NaN</td>\n",
       "      <td>NaN</td>\n",
       "      <td>NaN</td>\n",
       "      <td>NaN</td>\n",
       "      <td>NaN</td>\n",
       "      <td>NaN</td>\n",
       "      <td>NaN</td>\n",
       "    </tr>\n",
       "    <tr>\n",
       "      <th>top</th>\n",
       "      <td>NaN</td>\n",
       "      <td>NaN</td>\n",
       "      <td>2011-12-23 00:00:00</td>\n",
       "      <td>NaN</td>\n",
       "      <td>False</td>\n",
       "      <td>A</td>\n",
       "      <td>NaN</td>\n",
       "      <td>NaN</td>\n",
       "      <td>NaN</td>\n",
       "      <td>NaN</td>\n",
       "      <td>NaN</td>\n",
       "      <td>NaN</td>\n",
       "      <td>NaN</td>\n",
       "      <td>NaN</td>\n",
       "      <td>NaN</td>\n",
       "      <td>NaN</td>\n",
       "    </tr>\n",
       "    <tr>\n",
       "      <th>freq</th>\n",
       "      <td>NaN</td>\n",
       "      <td>NaN</td>\n",
       "      <td>3027</td>\n",
       "      <td>NaN</td>\n",
       "      <td>391909</td>\n",
       "      <td>215478</td>\n",
       "      <td>NaN</td>\n",
       "      <td>NaN</td>\n",
       "      <td>NaN</td>\n",
       "      <td>NaN</td>\n",
       "      <td>NaN</td>\n",
       "      <td>NaN</td>\n",
       "      <td>NaN</td>\n",
       "      <td>NaN</td>\n",
       "      <td>NaN</td>\n",
       "      <td>NaN</td>\n",
       "    </tr>\n",
       "    <tr>\n",
       "      <th>first</th>\n",
       "      <td>NaN</td>\n",
       "      <td>NaN</td>\n",
       "      <td>2010-02-05 00:00:00</td>\n",
       "      <td>NaN</td>\n",
       "      <td>NaN</td>\n",
       "      <td>NaN</td>\n",
       "      <td>NaN</td>\n",
       "      <td>NaN</td>\n",
       "      <td>NaN</td>\n",
       "      <td>NaN</td>\n",
       "      <td>NaN</td>\n",
       "      <td>NaN</td>\n",
       "      <td>NaN</td>\n",
       "      <td>NaN</td>\n",
       "      <td>NaN</td>\n",
       "      <td>NaN</td>\n",
       "    </tr>\n",
       "    <tr>\n",
       "      <th>last</th>\n",
       "      <td>NaN</td>\n",
       "      <td>NaN</td>\n",
       "      <td>2012-10-26 00:00:00</td>\n",
       "      <td>NaN</td>\n",
       "      <td>NaN</td>\n",
       "      <td>NaN</td>\n",
       "      <td>NaN</td>\n",
       "      <td>NaN</td>\n",
       "      <td>NaN</td>\n",
       "      <td>NaN</td>\n",
       "      <td>NaN</td>\n",
       "      <td>NaN</td>\n",
       "      <td>NaN</td>\n",
       "      <td>NaN</td>\n",
       "      <td>NaN</td>\n",
       "      <td>NaN</td>\n",
       "    </tr>\n",
       "    <tr>\n",
       "      <th>mean</th>\n",
       "      <td>22.200546</td>\n",
       "      <td>44.260317</td>\n",
       "      <td>NaN</td>\n",
       "      <td>15981.258123</td>\n",
       "      <td>NaN</td>\n",
       "      <td>NaN</td>\n",
       "      <td>136727.915739</td>\n",
       "      <td>60.090059</td>\n",
       "      <td>3.361027</td>\n",
       "      <td>7246.420196</td>\n",
       "      <td>3334.628621</td>\n",
       "      <td>1439.421384</td>\n",
       "      <td>3383.168256</td>\n",
       "      <td>4628.975079</td>\n",
       "      <td>171.201947</td>\n",
       "      <td>7.960289</td>\n",
       "    </tr>\n",
       "    <tr>\n",
       "      <th>std</th>\n",
       "      <td>12.785297</td>\n",
       "      <td>30.492054</td>\n",
       "      <td>NaN</td>\n",
       "      <td>22711.183519</td>\n",
       "      <td>NaN</td>\n",
       "      <td>NaN</td>\n",
       "      <td>60980.583328</td>\n",
       "      <td>18.447931</td>\n",
       "      <td>0.458515</td>\n",
       "      <td>8291.221345</td>\n",
       "      <td>9475.357325</td>\n",
       "      <td>9623.078290</td>\n",
       "      <td>6292.384031</td>\n",
       "      <td>5962.887455</td>\n",
       "      <td>39.159276</td>\n",
       "      <td>1.863296</td>\n",
       "    </tr>\n",
       "    <tr>\n",
       "      <th>min</th>\n",
       "      <td>1.000000</td>\n",
       "      <td>1.000000</td>\n",
       "      <td>NaN</td>\n",
       "      <td>-4988.940000</td>\n",
       "      <td>NaN</td>\n",
       "      <td>NaN</td>\n",
       "      <td>34875.000000</td>\n",
       "      <td>-2.060000</td>\n",
       "      <td>2.472000</td>\n",
       "      <td>0.270000</td>\n",
       "      <td>-265.760000</td>\n",
       "      <td>-29.100000</td>\n",
       "      <td>0.220000</td>\n",
       "      <td>135.160000</td>\n",
       "      <td>126.064000</td>\n",
       "      <td>3.879000</td>\n",
       "    </tr>\n",
       "    <tr>\n",
       "      <th>25%</th>\n",
       "      <td>11.000000</td>\n",
       "      <td>18.000000</td>\n",
       "      <td>NaN</td>\n",
       "      <td>2079.650000</td>\n",
       "      <td>NaN</td>\n",
       "      <td>NaN</td>\n",
       "      <td>93638.000000</td>\n",
       "      <td>46.680000</td>\n",
       "      <td>2.933000</td>\n",
       "      <td>2240.270000</td>\n",
       "      <td>41.600000</td>\n",
       "      <td>5.080000</td>\n",
       "      <td>504.220000</td>\n",
       "      <td>1878.440000</td>\n",
       "      <td>132.022667</td>\n",
       "      <td>6.891000</td>\n",
       "    </tr>\n",
       "    <tr>\n",
       "      <th>50%</th>\n",
       "      <td>22.000000</td>\n",
       "      <td>37.000000</td>\n",
       "      <td>NaN</td>\n",
       "      <td>7612.030000</td>\n",
       "      <td>NaN</td>\n",
       "      <td>NaN</td>\n",
       "      <td>140167.000000</td>\n",
       "      <td>62.090000</td>\n",
       "      <td>3.452000</td>\n",
       "      <td>5347.450000</td>\n",
       "      <td>192.000000</td>\n",
       "      <td>24.600000</td>\n",
       "      <td>1481.310000</td>\n",
       "      <td>3359.450000</td>\n",
       "      <td>182.318780</td>\n",
       "      <td>7.866000</td>\n",
       "    </tr>\n",
       "    <tr>\n",
       "      <th>75%</th>\n",
       "      <td>33.000000</td>\n",
       "      <td>74.000000</td>\n",
       "      <td>NaN</td>\n",
       "      <td>20205.852500</td>\n",
       "      <td>NaN</td>\n",
       "      <td>NaN</td>\n",
       "      <td>202505.000000</td>\n",
       "      <td>74.280000</td>\n",
       "      <td>3.738000</td>\n",
       "      <td>9210.900000</td>\n",
       "      <td>1926.940000</td>\n",
       "      <td>103.990000</td>\n",
       "      <td>3595.040000</td>\n",
       "      <td>5563.800000</td>\n",
       "      <td>212.416993</td>\n",
       "      <td>8.572000</td>\n",
       "    </tr>\n",
       "    <tr>\n",
       "      <th>max</th>\n",
       "      <td>45.000000</td>\n",
       "      <td>99.000000</td>\n",
       "      <td>NaN</td>\n",
       "      <td>693099.360000</td>\n",
       "      <td>NaN</td>\n",
       "      <td>NaN</td>\n",
       "      <td>219622.000000</td>\n",
       "      <td>100.140000</td>\n",
       "      <td>4.468000</td>\n",
       "      <td>88646.760000</td>\n",
       "      <td>104519.540000</td>\n",
       "      <td>141630.610000</td>\n",
       "      <td>67474.850000</td>\n",
       "      <td>108519.280000</td>\n",
       "      <td>227.232807</td>\n",
       "      <td>14.313000</td>\n",
       "    </tr>\n",
       "  </tbody>\n",
       "</table>\n",
       "</div>"
      ],
      "text/plain": [
       "                Store           Dept                 Date   Weekly_Sales  \\\n",
       "count   421570.000000  421570.000000               421570  421570.000000   \n",
       "unique            NaN            NaN                  143            NaN   \n",
       "top               NaN            NaN  2011-12-23 00:00:00            NaN   \n",
       "freq              NaN            NaN                 3027            NaN   \n",
       "first             NaN            NaN  2010-02-05 00:00:00            NaN   \n",
       "last              NaN            NaN  2012-10-26 00:00:00            NaN   \n",
       "mean        22.200546      44.260317                  NaN   15981.258123   \n",
       "std         12.785297      30.492054                  NaN   22711.183519   \n",
       "min          1.000000       1.000000                  NaN   -4988.940000   \n",
       "25%         11.000000      18.000000                  NaN    2079.650000   \n",
       "50%         22.000000      37.000000                  NaN    7612.030000   \n",
       "75%         33.000000      74.000000                  NaN   20205.852500   \n",
       "max         45.000000      99.000000                  NaN  693099.360000   \n",
       "\n",
       "       IsHoliday    Type           Size    Temperature     Fuel_Price  \\\n",
       "count     421570  421570  421570.000000  421570.000000  421570.000000   \n",
       "unique         2       3            NaN            NaN            NaN   \n",
       "top        False       A            NaN            NaN            NaN   \n",
       "freq      391909  215478            NaN            NaN            NaN   \n",
       "first        NaN     NaN            NaN            NaN            NaN   \n",
       "last         NaN     NaN            NaN            NaN            NaN   \n",
       "mean         NaN     NaN  136727.915739      60.090059       3.361027   \n",
       "std          NaN     NaN   60980.583328      18.447931       0.458515   \n",
       "min          NaN     NaN   34875.000000      -2.060000       2.472000   \n",
       "25%          NaN     NaN   93638.000000      46.680000       2.933000   \n",
       "50%          NaN     NaN  140167.000000      62.090000       3.452000   \n",
       "75%          NaN     NaN  202505.000000      74.280000       3.738000   \n",
       "max          NaN     NaN  219622.000000     100.140000       4.468000   \n",
       "\n",
       "            MarkDown1      MarkDown2      MarkDown3      MarkDown4  \\\n",
       "count   150681.000000  111248.000000  137091.000000  134967.000000   \n",
       "unique            NaN            NaN            NaN            NaN   \n",
       "top               NaN            NaN            NaN            NaN   \n",
       "freq              NaN            NaN            NaN            NaN   \n",
       "first             NaN            NaN            NaN            NaN   \n",
       "last              NaN            NaN            NaN            NaN   \n",
       "mean      7246.420196    3334.628621    1439.421384    3383.168256   \n",
       "std       8291.221345    9475.357325    9623.078290    6292.384031   \n",
       "min          0.270000    -265.760000     -29.100000       0.220000   \n",
       "25%       2240.270000      41.600000       5.080000     504.220000   \n",
       "50%       5347.450000     192.000000      24.600000    1481.310000   \n",
       "75%       9210.900000    1926.940000     103.990000    3595.040000   \n",
       "max      88646.760000  104519.540000  141630.610000   67474.850000   \n",
       "\n",
       "            MarkDown5            CPI   Unemployment  \n",
       "count   151432.000000  421570.000000  421570.000000  \n",
       "unique            NaN            NaN            NaN  \n",
       "top               NaN            NaN            NaN  \n",
       "freq              NaN            NaN            NaN  \n",
       "first             NaN            NaN            NaN  \n",
       "last              NaN            NaN            NaN  \n",
       "mean      4628.975079     171.201947       7.960289  \n",
       "std       5962.887455      39.159276       1.863296  \n",
       "min        135.160000     126.064000       3.879000  \n",
       "25%       1878.440000     132.022667       6.891000  \n",
       "50%       3359.450000     182.318780       7.866000  \n",
       "75%       5563.800000     212.416993       8.572000  \n",
       "max     108519.280000     227.232807      14.313000  "
      ]
     },
     "execution_count": 10,
     "metadata": {},
     "output_type": "execute_result"
    }
   ],
   "source": [
    "# Review the measures of indpending and depending varablies\n",
    "dataset.describe(include='all')"
   ]
  },
  {
   "cell_type": "code",
   "execution_count": 11,
   "metadata": {},
   "outputs": [
    {
     "data": {
      "text/plain": [
       "Store            0.000000\n",
       "Dept             0.000000\n",
       "Date             0.000000\n",
       "Weekly_Sales     0.000000\n",
       "IsHoliday        0.000000\n",
       "Type             0.000000\n",
       "Size             0.000000\n",
       "Temperature      0.000000\n",
       "Fuel_Price       0.000000\n",
       "MarkDown1       64.257181\n",
       "MarkDown2       73.611025\n",
       "MarkDown3       67.480845\n",
       "MarkDown4       67.984676\n",
       "MarkDown5       64.079038\n",
       "CPI              0.000000\n",
       "Unemployment     0.000000\n",
       "dtype: float64"
      ]
     },
     "execution_count": 11,
     "metadata": {},
     "output_type": "execute_result"
    }
   ],
   "source": [
    "# Null value\n",
    "dataset.isnull().mean()* 100"
   ]
  },
  {
   "cell_type": "code",
   "execution_count": 12,
   "metadata": {},
   "outputs": [
    {
     "data": {
      "image/png": "[encoded data removed]",
      "text/plain": [
       "<Figure size 1080x1080 with 2 Axes>"
      ]
     },
     "metadata": {
      "needs_background": "light"
     },
     "output_type": "display_data"
    }
   ],
   "source": [
    "# Find the correlation \n",
    "corr = dataset.corr()\n",
    "f, ax = plt.subplots(figsize=(15, 15))\n",
    "cmap = sns.diverging_palette(220, 20, as_cmap=True)\n",
    "sns.heatmap(corr, cmap=cmap, vmax=.3, center=0, annot=True,\n",
    "            square=True, linewidths=.5, cbar_kws={'shrink': .5})\n",
    "plt.show()"
   ]
  },
  {
   "cell_type": "markdown",
   "metadata": {},
   "source": [
    "##### The Size of the store has high correlated with sales  \n",
    "\n"
   ]
  },
  {
   "cell_type": "code",
   "execution_count": 13,
   "metadata": {},
   "outputs": [
    {
     "data": {
      "image/png": "[encoded data removed]",
      "text/plain": [
       "<Figure size 432x288 with 1 Axes>"
      ]
     },
     "metadata": {},
     "output_type": "display_data"
    }
   ],
   "source": [
    "# lest review the size of the store\n",
    "type_info=dataset.groupby('Type')['Size'].count()\n",
    "type_info.plot.pie(subplots=True, autopct='%1.1f%%')\n",
    "plt.legend(title= \"Type\")\n",
    "plt.show()\n"
   ]
  },
  {
   "cell_type": "markdown",
   "metadata": {},
   "source": [
    "### Many store of type A and less store of type(C,B)"
   ]
  },
  {
   "cell_type": "code",
   "execution_count": 14,
   "metadata": {},
   "outputs": [],
   "source": [
    "# create column for seasonality\n",
    "conditions=[\n",
    "(dataset.Date == '2010-02-12 00:00:00') | (dataset.Date =='2011-02-11 00:00:00') | (dataset.Date =='2012-02-10 00:00:00') \n",
    "| (dataset.Date == '2013-02-08 00:00:00'),\n",
    "(dataset.Date == '2010-09-10 00:00:00')| (dataset.Date =='2011-09-11 00:00:00')| (dataset.Date == '2012-09-07 00:00:00')\n",
    "| (dataset.Date == '2013-09-06 00:00:00'),\n",
    "( dataset.Date =='2010-11-26 00:00:00') | (dataset.Date =='2011-11-25 00:00:00')| (dataset.Date == '2012-11-23 00:00:00')\n",
    "| (dataset.Date == '2013-11-29 00:00:00'),\n",
    "( dataset.Date =='2010-12-31 00:00:00')| (dataset.Date =='2011-12-30 00:00:00') | (dataset.Date =='2012-12-28 00:00:00')\n",
    "| (dataset.Date == '2013-12-27 00:00:00')]\n",
    "\n",
    "values=['super_Bowl','labor_day','thanksgiving','christmas']\n",
    "dataset['seasonality']=np.select(conditions,values)\n"
   ]
  },
  {
   "cell_type": "code",
   "execution_count": 15,
   "metadata": {},
   "outputs": [
    {
     "data": {
      "image/png": "[encoded data removed]",
      "text/plain": [
       "<Figure size 432x288 with 1 Axes>"
      ]
     },
     "metadata": {
      "needs_background": "light"
     },
     "output_type": "display_data"
    }
   ],
   "source": [
    "\n",
    "df=dataset[dataset['seasonality'] != '0']\n",
    "result=df.groupby('seasonality')['Weekly_Sales'].sum()\n",
    "result=result.reset_index()\n",
    "sns.barplot(data=result, x='seasonality' , y='Weekly_Sales' )\n",
    "plt.title('Sales')\n",
    "plt.show()\n"
   ]
  },
  {
   "cell_type": "markdown",
   "metadata": {},
   "source": [
    "#### Data Manipulation\n",
    "<li>Drop varablies with low correlation</li>\n",
    "<li>Replace null value with zero</li>\n",
    "<li>Create varibles for year, month, and week</li>"
   ]
  },
  {
   "cell_type": "code",
   "execution_count": 16,
   "metadata": {},
   "outputs": [],
   "source": [
    "# Create varibles: \n",
    "dataset[['MarkDown1','MarkDown2','MarkDown3','MarkDown4', 'MarkDown5']] = dataset[['MarkDown1','MarkDown2','MarkDown3','MarkDown4','MarkDown5']].fillna(0)\n",
    "dataset['Year'] = dataset['Date'].dt.year\n",
    "dataset['Month'] = dataset['Date'].dt.month\n",
    "dataset['Week'] = dataset['Date'].dt.isocalendar().week\n",
    "#Drop variables with low correlation\n",
    "dataset = dataset.drop(columns=[\"Fuel_Price\", 'Unemployment','Date' ,'Temperature', \"CPI\"])"
   ]
  },
  {
   "cell_type": "code",
   "execution_count": 17,
   "metadata": {},
   "outputs": [
    {
     "data": {
      "text/html": [
       "<div>\n",
       "<style scoped>\n",
       "    .dataframe tbody tr th:only-of-type {\n",
       "        vertical-align: middle;\n",
       "    }\n",
       "\n",
       "    .dataframe tbody tr th {\n",
       "        vertical-align: top;\n",
       "    }\n",
       "\n",
       "    .dataframe thead th {\n",
       "        text-align: right;\n",
       "    }\n",
       "</style>\n",
       "<table border=\"1\" class=\"dataframe\">\n",
       "  <thead>\n",
       "    <tr style=\"text-align: right;\">\n",
       "      <th></th>\n",
       "      <th>Store</th>\n",
       "      <th>Dept</th>\n",
       "      <th>Weekly_Sales</th>\n",
       "      <th>IsHoliday</th>\n",
       "      <th>Type</th>\n",
       "      <th>Size</th>\n",
       "      <th>MarkDown1</th>\n",
       "      <th>MarkDown2</th>\n",
       "      <th>MarkDown3</th>\n",
       "      <th>MarkDown4</th>\n",
       "      <th>MarkDown5</th>\n",
       "      <th>seasonality</th>\n",
       "      <th>Year</th>\n",
       "      <th>Month</th>\n",
       "      <th>Week</th>\n",
       "    </tr>\n",
       "  </thead>\n",
       "  <tbody>\n",
       "    <tr>\n",
       "      <th>0</th>\n",
       "      <td>1</td>\n",
       "      <td>1</td>\n",
       "      <td>24924.50</td>\n",
       "      <td>False</td>\n",
       "      <td>A</td>\n",
       "      <td>151315</td>\n",
       "      <td>0.0</td>\n",
       "      <td>0.0</td>\n",
       "      <td>0.0</td>\n",
       "      <td>0.0</td>\n",
       "      <td>0.0</td>\n",
       "      <td>0</td>\n",
       "      <td>2010</td>\n",
       "      <td>2</td>\n",
       "      <td>5</td>\n",
       "    </tr>\n",
       "    <tr>\n",
       "      <th>1</th>\n",
       "      <td>1</td>\n",
       "      <td>1</td>\n",
       "      <td>46039.49</td>\n",
       "      <td>True</td>\n",
       "      <td>A</td>\n",
       "      <td>151315</td>\n",
       "      <td>0.0</td>\n",
       "      <td>0.0</td>\n",
       "      <td>0.0</td>\n",
       "      <td>0.0</td>\n",
       "      <td>0.0</td>\n",
       "      <td>super_Bowl</td>\n",
       "      <td>2010</td>\n",
       "      <td>2</td>\n",
       "      <td>6</td>\n",
       "    </tr>\n",
       "  </tbody>\n",
       "</table>\n",
       "</div>"
      ],
      "text/plain": [
       "   Store  Dept  Weekly_Sales  IsHoliday Type    Size  MarkDown1  MarkDown2  \\\n",
       "0      1     1      24924.50      False    A  151315        0.0        0.0   \n",
       "1      1     1      46039.49       True    A  151315        0.0        0.0   \n",
       "\n",
       "   MarkDown3  MarkDown4  MarkDown5 seasonality  Year  Month  Week  \n",
       "0        0.0        0.0        0.0           0  2010      2     5  \n",
       "1        0.0        0.0        0.0  super_Bowl  2010      2     6  "
      ]
     },
     "execution_count": 17,
     "metadata": {},
     "output_type": "execute_result"
    }
   ],
   "source": [
    "dataset.head(2)"
   ]
  },
  {
   "cell_type": "code",
   "execution_count": 18,
   "metadata": {},
   "outputs": [
    {
     "data": {
      "image/png": "[encoded data removed]",
      "text/plain": [
       "<Figure size 432x288 with 1 Axes>"
      ]
     },
     "metadata": {
      "needs_background": "light"
     },
     "output_type": "display_data"
    }
   ],
   "source": [
    "# More is sales in weekdays\n",
    "prom1=dataset.groupby(['IsHoliday'])['Weekly_Sales'].sum().reset_index()\n",
    "sns.barplot(data=prom1, x='IsHoliday', y='Weekly_Sales')\n",
    "plt.title('Sales in (Weekdays & Weekend)')\n",
    "plt.show()\n"
   ]
  },
  {
   "cell_type": "markdown",
   "metadata": {},
   "source": [
    "#### More sales in weekdays"
   ]
  },
  {
   "cell_type": "code",
   "execution_count": 19,
   "metadata": {},
   "outputs": [
    {
     "name": "stdout",
     "output_type": "stream",
     "text": [
      "Shape of dataset:  (421570, 15)\n"
     ]
    },
    {
     "data": {
      "text/html": [
       "<div>\n",
       "<style scoped>\n",
       "    .dataframe tbody tr th:only-of-type {\n",
       "        vertical-align: middle;\n",
       "    }\n",
       "\n",
       "    .dataframe tbody tr th {\n",
       "        vertical-align: top;\n",
       "    }\n",
       "\n",
       "    .dataframe thead th {\n",
       "        text-align: right;\n",
       "    }\n",
       "</style>\n",
       "<table border=\"1\" class=\"dataframe\">\n",
       "  <thead>\n",
       "    <tr style=\"text-align: right;\">\n",
       "      <th></th>\n",
       "      <th>Store</th>\n",
       "      <th>Dept</th>\n",
       "      <th>Weekly_Sales</th>\n",
       "      <th>IsHoliday</th>\n",
       "      <th>Type</th>\n",
       "      <th>Size</th>\n",
       "      <th>MarkDown1</th>\n",
       "      <th>MarkDown2</th>\n",
       "      <th>MarkDown3</th>\n",
       "      <th>MarkDown4</th>\n",
       "      <th>MarkDown5</th>\n",
       "      <th>seasonality</th>\n",
       "      <th>Year</th>\n",
       "      <th>Month</th>\n",
       "      <th>Week</th>\n",
       "    </tr>\n",
       "  </thead>\n",
       "  <tbody>\n",
       "    <tr>\n",
       "      <th>0</th>\n",
       "      <td>1</td>\n",
       "      <td>1</td>\n",
       "      <td>24924.50</td>\n",
       "      <td>0</td>\n",
       "      <td>A</td>\n",
       "      <td>151315</td>\n",
       "      <td>0.0</td>\n",
       "      <td>0.0</td>\n",
       "      <td>0.0</td>\n",
       "      <td>0.0</td>\n",
       "      <td>0.0</td>\n",
       "      <td>0</td>\n",
       "      <td>2010</td>\n",
       "      <td>2</td>\n",
       "      <td>5</td>\n",
       "    </tr>\n",
       "    <tr>\n",
       "      <th>1</th>\n",
       "      <td>1</td>\n",
       "      <td>1</td>\n",
       "      <td>46039.49</td>\n",
       "      <td>1</td>\n",
       "      <td>A</td>\n",
       "      <td>151315</td>\n",
       "      <td>0.0</td>\n",
       "      <td>0.0</td>\n",
       "      <td>0.0</td>\n",
       "      <td>0.0</td>\n",
       "      <td>0.0</td>\n",
       "      <td>super_Bowl</td>\n",
       "      <td>2010</td>\n",
       "      <td>2</td>\n",
       "      <td>6</td>\n",
       "    </tr>\n",
       "  </tbody>\n",
       "</table>\n",
       "</div>"
      ],
      "text/plain": [
       "   Store  Dept  Weekly_Sales  IsHoliday Type    Size  MarkDown1  MarkDown2  \\\n",
       "0      1     1      24924.50          0    A  151315        0.0        0.0   \n",
       "1      1     1      46039.49          1    A  151315        0.0        0.0   \n",
       "\n",
       "   MarkDown3  MarkDown4  MarkDown5 seasonality  Year  Month  Week  \n",
       "0        0.0        0.0        0.0           0  2010      2     5  \n",
       "1        0.0        0.0        0.0  super_Bowl  2010      2     6  "
      ]
     },
     "execution_count": 19,
     "metadata": {},
     "output_type": "execute_result"
    }
   ],
   "source": [
    "#data to be in the should be numeric format\n",
    "#changing IsHoliday column with Flase to be 0 and True to be 1\n",
    "def modify(x):\n",
    "    if x == False:\n",
    "        return 0\n",
    "    return 1\n",
    "\n",
    "actualScore = dataset['IsHoliday']\n",
    "newValue = actualScore.map(modify)\n",
    "dataset['IsHoliday'] = newValue\n",
    "print(\"Shape of dataset: \", dataset.shape)\n",
    "dataset.head(2)"
   ]
  },
  {
   "cell_type": "code",
   "execution_count": 20,
   "metadata": {},
   "outputs": [
    {
     "data": {
      "image/png": "[encoded data removed]",
      "text/plain": [
       "<Figure size 432x288 with 1 Axes>"
      ]
     },
     "metadata": {
      "needs_background": "light"
     },
     "output_type": "display_data"
    }
   ],
   "source": [
    "# More sales in weekdays\n",
    "df_w=dataset.groupby(['Week'])['Weekly_Sales'].sum().reset_index()\n",
    "high_w=df_w['Weekly_Sales'].nlargest(15).reset_index()\n",
    "sns.barplot(data=high_w, x='index', y='Weekly_Sales')\n",
    "plt.title('Top Ten Higest Sales in the Week')\n",
    "plt.xlabel(\"Week\")\n",
    "plt.ylabel(\"Sales\")\n",
    "plt.show()"
   ]
  },
  {
   "cell_type": "code",
   "execution_count": 21,
   "metadata": {},
   "outputs": [
    {
     "data": {
      "image/png": "[encoded data removed]",
      "text/plain": [
       "<Figure size 792x504 with 1 Axes>"
      ]
     },
     "metadata": {
      "needs_background": "light"
     },
     "output_type": "display_data"
    }
   ],
   "source": [
    "# Size does not effect that much on sales\n",
    "result=df.groupby('Size')['Weekly_Sales'].sum().nlargest(10)\n",
    "result=result.reset_index().sort_values('Size', ascending=True)\n",
    "result\n",
    "plt.figure(figsize=(11,7))\n",
    "plt.title('Size of Store Vs Sales')\n",
    "sns.barplot(data=result, x='Size', y='Weekly_Sales');"
   ]
  },
  {
   "cell_type": "code",
   "execution_count": 22,
   "metadata": {},
   "outputs": [
    {
     "name": "stdout",
     "output_type": "stream",
     "text": [
      "<class 'pandas.core.frame.DataFrame'>\n",
      "Int64Index: 421570 entries, 0 to 421569\n",
      "Data columns (total 15 columns):\n",
      " #   Column        Non-Null Count   Dtype  \n",
      "---  ------        --------------   -----  \n",
      " 0   Store         421570 non-null  int64  \n",
      " 1   Dept          421570 non-null  int64  \n",
      " 2   Weekly_Sales  421570 non-null  float64\n",
      " 3   IsHoliday     421570 non-null  int64  \n",
      " 4   Type          421570 non-null  object \n",
      " 5   Size          421570 non-null  int64  \n",
      " 6   MarkDown1     421570 non-null  float64\n",
      " 7   MarkDown2     421570 non-null  float64\n",
      " 8   MarkDown3     421570 non-null  float64\n",
      " 9   MarkDown4     421570 non-null  float64\n",
      " 10  MarkDown5     421570 non-null  float64\n",
      " 11  seasonality   421570 non-null  object \n",
      " 12  Year          421570 non-null  int64  \n",
      " 13  Month         421570 non-null  int64  \n",
      " 14  Week          421570 non-null  UInt32 \n",
      "dtypes: UInt32(1), float64(6), int64(6), object(2)\n",
      "memory usage: 50.3+ MB\n"
     ]
    }
   ],
   "source": [
    "# Data should bein the numeric format\n",
    "dataset.info()"
   ]
  },
  {
   "cell_type": "code",
   "execution_count": 23,
   "metadata": {},
   "outputs": [],
   "source": [
    "# Converting Categorical Variable 'Type' into Numerical Variables.\n",
    "conditions=[(dataset.Type ==\"A\"),(dataset.Type ==\"B\"),(dataset.Type==\"C\")]\n",
    "values=[1,2,3]\n",
    "dataset['Type2']=np.select(conditions,values)\n"
   ]
  },
  {
   "cell_type": "code",
   "execution_count": 24,
   "metadata": {},
   "outputs": [],
   "source": [
    "dataset.seasonality.unique()\n",
    "dataset['N_super_Bowl']=np.where(dataset['seasonality']== 'super_Bowl',1,0)\n",
    "dataset['N_labor_day']=np.where(dataset['seasonality']== 'labor_day',1,0)\n",
    "dataset['N_thanksgiving']=np.where(dataset['seasonality']== 'thanksgiving',1,0)\n",
    "dataset['N_christmas']=np.where(dataset['seasonality']== 'christmas',1,0)\n"
   ]
  },
  {
   "cell_type": "code",
   "execution_count": 25,
   "metadata": {},
   "outputs": [],
   "source": [
    "train = dataset.drop(columns=[\"Type\", 'seasonality'])"
   ]
  },
  {
   "cell_type": "code",
   "execution_count": 26,
   "metadata": {},
   "outputs": [],
   "source": [
    "train.sort_values(by='Year', ascending=True)\n",
    "# Sorting the data in increasing order of Date and then splitting.\n",
    "y = train['Weekly_Sales']\n",
    "X = train.drop(['Weekly_Sales'], axis=1)\n",
    "\n",
    "# Train:Test = 70:30 splitting.\n",
    "X_train, X_test, y_train, y_test = train_test_split(X, y, test_size=0.3)\n",
    "#Train:CV = 70:30 splitting.\n",
    "X_train, X_cv, y_train, y_cv = train_test_split(X_train, y_train, test_size=0.3) \n"
   ]
  },
  {
   "cell_type": "code",
   "execution_count": 27,
   "metadata": {},
   "outputs": [],
   "source": [
    "def wmae_test(test, pred): # WMAE for test\n",
    "  weights = X_test['Type2'].apply(lambda is_holiday:5 if is_holiday else 1)\n",
    "  error = np.sum(weights * np.abs(test - pred), axis=0) / np.sum(weights)\n",
    "  return error"
   ]
  },
  {
   "cell_type": "code",
   "execution_count": 28,
   "metadata": {},
   "outputs": [
    {
     "name": "stdout",
     "output_type": "stream",
     "text": [
      "Weighted Mean Absolute Error (WMAE) for Random Forest Regression: 1513.0496752296715\n"
     ]
    }
   ],
   "source": [
    "#measure of prediction accuracy of a forecasting method(WMAPE)\n",
    "model_rf = RandomForestRegressor(max_depth= 35, n_estimators=80).fit(X_train, y_train) \n",
    "# Fit the model with best hyper parameter values.\n",
    "y_pred = model_rf.predict(X_test) \n",
    "# Predict the test data.\n",
    "print('Weighted Mean Absolute Error (WMAE) for Random Forest Regression:', wmae_test(y_test, y_pred)) # Get WMAE score.\n"
   ]
  },
  {
   "cell_type": "markdown",
   "metadata": {},
   "source": [
    "#### Describe your approach if you have been asked to build an ML model to forecast the sales?\n",
    "\n",
    "I will use Random Forest Regression model that has less Weighted Mean Absolute Error"
   ]
  },
  {
   "cell_type": "markdown",
   "metadata": {},
   "source": []
  }
 ],
 "metadata": {
  "interpreter": {
   "hash": "aee8b7b246df8f9039afb4144a1f6fd8d2ca17a180786b69acc140d282b71a49"
  },
  "kernelspec": {
   "display_name": "Python 3.9.6 64-bit",
   "language": "python",
   "name": "python3"
  },
  "language_info": {
   "codemirror_mode": {
    "name": "ipython",
    "version": 3
   },
   "file_extension": ".py",
   "mimetype": "text/x-python",
   "name": "python",
   "nbconvert_exporter": "python",
   "pygments_lexer": "ipython3",
   "version": "3.9.6"
  },
  "orig_nbformat": 4
 },
 "nbformat": 4,
 "nbformat_minor": 2
}
